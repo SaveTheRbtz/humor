{
 "cells": [
  {
   "cell_type": "code",
   "execution_count": null,
   "metadata": {},
   "outputs": [],
   "source": [
    "\n",
    "\"\"\"\n",
    "Cleanup jokes that end with a colon.  These are usually not jokes, but rather LLM output.\n",
    "\"\"\"\n",
    "\n",
    "from google.cloud import firestore\n",
    "\n",
    "db = firestore.Client(project=\"humor-arena\")\n",
    "jokes = db.collection(\"jokes\").stream()\n",
    "for joke in jokes:\n",
    "    text = joke.get(\"text\")\n",
    "    if text.strip().endswith(\":\"):\n",
    "        print(text)\n",
    "        joke.reference.delete()"
   ]
  },
  {
   "cell_type": "code",
   "execution_count": null,
   "metadata": {},
   "outputs": [],
   "source": []
  }
 ],
 "metadata": {
  "kernelspec": {
   "display_name": "humor",
   "language": "python",
   "name": "python3"
  },
  "language_info": {
   "codemirror_mode": {
    "name": "ipython",
    "version": 3
   },
   "file_extension": ".py",
   "mimetype": "text/x-python",
   "name": "python",
   "nbconvert_exporter": "python",
   "pygments_lexer": "ipython3",
   "version": "3.11.8"
  }
 },
 "nbformat": 4,
 "nbformat_minor": 2
}
