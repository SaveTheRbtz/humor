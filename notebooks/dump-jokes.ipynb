{
 "cells": [
  {
   "cell_type": "code",
   "execution_count": null,
   "metadata": {},
   "outputs": [],
   "source": [
    "from google.cloud import firestore\n",
    "\n",
    "db = firestore.Client(project='humor-arena')\n",
    "\n",
    "docs = db.collection('jokes').stream()\n",
    "for doc in docs:\n",
    "    data = doc.to_dict()\n",
    "    model = data.get('model', '')\n",
    "    if 'llama' not in model and 'ablated' not in model and 'mini' not in model:\n",
    "        text = data.get('text')\n",
    "        print(text)"
   ]
  },
  {
   "cell_type": "code",
   "execution_count": null,
   "metadata": {},
   "outputs": [],
   "source": []
  }
 ],
 "metadata": {
  "kernelspec": {
   "display_name": "humor",
   "language": "python",
   "name": "python3"
  },
  "language_info": {
   "name": "python",
   "version": "3.11.8"
  }
 },
 "nbformat": 4,
 "nbformat_minor": 2
}
