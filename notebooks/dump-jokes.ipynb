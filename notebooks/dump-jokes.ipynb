{
 "cells": [
  {
   "cell_type": "code",
   "execution_count": 5,
   "metadata": {},
   "outputs": [
    {
     "name": "stderr",
     "output_type": "stream",
     "text": [
      "I0000 00:00:1733104844.937605 71828071 fork_posix.cc:77] Other threads are currently calling into gRPC, skipping fork() handlers\n"
     ]
    },
    {
     "name": "stdout",
     "output_type": "stream",
     "text": [
      "The artist's performance was so striking, the paintbrushes gave a standing ovation.\n",
      "The ballet dancer's footwork was so precise, she moonlights as a human 3D printer.\n",
      "I took off the mask to reveal my true identity; everyone was surprised to see I was wearing another mask.\n",
      "I tried deciphering a scrambled alphabet, but all I got was a ransom note for the vowels.\n",
      "The firefly went on a date but didn't glow; I guess the spark just wasn't there.\n",
      "When the performer stepped into the spotlight, she thought, \"Time to outshine the stars!\"\n",
      "Bought a mattress so soft, even the clouds are asking for its model.\n",
      "I visited an IKEA showroom and got lost; it was the most furnished maze I've ever seen.\n",
      "The paint chip sample was called \"Sunset Dream,\" but on my wall, it's more like \"Midnight Regret.\"\n",
      "The pianist thanked the invisible man after the concert; turns out his ghostwriter really hit all the right notes assisting backstage.\n",
      "I studied different alphabets so much, when I blinked, my eyelids read \"insomnia\" in Morse code.\n",
      "...\n"
     ]
    }
   ],
   "source": [
    "from google.cloud import firestore\n",
    "\n",
    "db = firestore.Client(project='humor-arena')\n",
    "\n",
    "num = 0\n",
    "docs = db.collection('jokes').stream()\n",
    "for doc in docs:\n",
    "    data = doc.to_dict()\n",
    "    model = data.get('model', '')\n",
    "    if 'llama' not in model and 'ablated' not in model and 'mini' not in model:\n",
    "        text = data.get('text')\n",
    "        print(text)\n",
    "        num += 1\n",
    "        if num > 10:\n",
    "            print('...')\n",
    "            break"
   ]
  },
  {
   "cell_type": "code",
   "execution_count": null,
   "metadata": {},
   "outputs": [],
   "source": []
  }
 ],
 "metadata": {
  "kernelspec": {
   "display_name": "humor",
   "language": "python",
   "name": "python3"
  },
  "language_info": {
   "codemirror_mode": {
    "name": "ipython",
    "version": 3
   },
   "file_extension": ".py",
   "mimetype": "text/x-python",
   "name": "python",
   "nbconvert_exporter": "python",
   "pygments_lexer": "ipython3",
   "version": "3.11.8"
  }
 },
 "nbformat": 4,
 "nbformat_minor": 2
}
